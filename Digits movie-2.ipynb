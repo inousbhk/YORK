{
 "cells": [
  {
   "cell_type": "code",
   "execution_count": 15,
   "id": "21501e10",
   "metadata": {},
   "outputs": [],
   "source": [
    "import tensorflow as tf\n",
    "import matplotlib.pyplot as plt\n",
    "import random as random\n",
    "import numpy as np\n",
    "import matplotlib.animation as animation"
   ]
  },
  {
   "cell_type": "code",
   "execution_count": 2,
   "id": "c1431b57",
   "metadata": {},
   "outputs": [],
   "source": [
    "def insert(digit, frame, position):\n",
    "    for i, line in enumerate(digit):\n",
    "        for j, pixel in enumerate(line):\n",
    "            frame_value = frame[position[0]+i, position[1]+j]\n",
    "            if frame_value + pixel > max_value:\n",
    "                frame[position[0]+i, position[1]+j] = max_value\n",
    "                #saturation\n",
    "            else:\n",
    "                frame[position[0]+i, position[1]+j] += pixel\n",
    "    return frame"
   ]
  },
  {
   "cell_type": "code",
   "execution_count": 3,
   "id": "73ff2a3e",
   "metadata": {},
   "outputs": [],
   "source": [
    "def create_frame(frame_dimensions, digits, positions):\n",
    "    frame = np.zeros((frame_dimensions[0], frame_dimensions[1]))\n",
    "    for k, digit in enumerate(digits):\n",
    "        position = positions[k]\n",
    "        frame = insert(digit, frame, position)\n",
    "    return frame"
   ]
  },
  {
   "cell_type": "code",
   "execution_count": 4,
   "id": "194fa5d7",
   "metadata": {},
   "outputs": [],
   "source": [
    "def mirror_direction(direction, position, frame_size):\n",
    "    #only called if digit hits a wall, so either x or y equals 0 or frame_size-1\n",
    "    dx, dy = direction\n",
    "    x,y = position\n",
    "    if (x==0 or x==frame_size-1) and y!=0 and y!=frame_size-1:\n",
    "        dx = -dx\n",
    "    if (y==0 or y==frame_size-1) and x!=0 and x!=frame_size-1:\n",
    "        dy = -dy\n",
    "    if (x==0 or x==frame_size-1) and (y==0 or y==frame_size-1):\n",
    "        dx, dy = -dx, -dy\n",
    "    return [dx, dy]"
   ]
  },
  {
   "cell_type": "code",
   "execution_count": 5,
   "id": "1ce1899c",
   "metadata": {},
   "outputs": [],
   "source": [
    "def closest_frontier(position, frame_size):\n",
    "    x,y = position\n",
    "    neighbor_frontiers = [(frame_size-1,y), (0,y), (x, frame_size-1), (x,0)]\n",
    "    distances = []\n",
    "    distances.append(frame_size - (x+digit_size))\n",
    "    distances.append(x)\n",
    "    distances.append(frame_size - (y+digit_size))\n",
    "    distances.append(y)\n",
    "    return neighbor_frontiers[distances.index(min(distances))]"
   ]
  },
  {
   "cell_type": "code",
   "execution_count": 6,
   "id": "9a9d294e",
   "metadata": {},
   "outputs": [],
   "source": [
    "def non_null_sample(max_value, number):\n",
    "    values = list(np.arange(-max_value, max_value+1))\n",
    "    sample = []\n",
    "    for i in range(number-1):\n",
    "        sample.append(random.choice(values))\n",
    "    #for the last value, we cannot add a zero if there are only zero in the selected values\n",
    "    if list(set(sample)) != [0]:\n",
    "        sample.append(random.choice(values))\n",
    "    else:\n",
    "        values.remove(0)\n",
    "        sample.append(random.choice(values))\n",
    "    return sample"
   ]
  },
  {
   "cell_type": "code",
   "execution_count": 7,
   "id": "979eb2d2",
   "metadata": {},
   "outputs": [],
   "source": [
    "def new_position(position, direction):\n",
    "    x,y = position\n",
    "    dx, dy = direction\n",
    "    return [x+speed*dx, y+speed*dy]"
   ]
  },
  {
   "cell_type": "code",
   "execution_count": 8,
   "id": "4a90bbf0",
   "metadata": {},
   "outputs": [],
   "source": [
    "def out_of_frame(position, frame_dimensions):\n",
    "    for i, dimension in enumerate(position) :\n",
    "\n",
    "        if dimension + digit_size  > frame_dimensions[i]:\n",
    "            return True\n",
    "        if dimension < 0:\n",
    "            return True\n",
    "    return False"
   ]
  },
  {
   "cell_type": "code",
   "execution_count": 9,
   "id": "6487bbc8",
   "metadata": {},
   "outputs": [],
   "source": [
    "def in_the_center(position, frame_size):\n",
    "    security_distance = abs(speed*max_jump)+ digit_size\n",
    "    for dimension in position :\n",
    "        if abs(frame_size-dimension)<security_distance or dimension < security_distance:\n",
    "            return False\n",
    "    return True"
   ]
  },
  {
   "cell_type": "code",
   "execution_count": 10,
   "id": "16439451",
   "metadata": {},
   "outputs": [],
   "source": [
    "(train_images, train_labels), (test_images, test_labels) = tf.keras.datasets.mnist.load_data()"
   ]
  },
  {
   "cell_type": "code",
   "execution_count": 27,
   "id": "0169a4c7",
   "metadata": {},
   "outputs": [],
   "source": [
    "frame_size = 280\n",
    "digit_size = len(train_images[0])\n",
    "n_digits = 5\n",
    "duration = 100\n",
    "max_jump = 2 #to define the angles of the direction\n",
    "max_value = 254\n",
    "speed = 2"
   ]
  },
  {
   "cell_type": "code",
   "execution_count": 28,
   "id": "d3811c97",
   "metadata": {},
   "outputs": [
    {
     "name": "stdout",
     "output_type": "stream",
     "text": [
      "253\n"
     ]
    },
    {
     "data": {
      "image/png": "[encoded data removed]",
      "text/plain": [
       "<Figure size 432x288 with 1 Axes>"
      ]
     },
     "metadata": {
      "needs_background": "light"
     },
     "output_type": "display_data"
    }
   ],
   "source": [
    "plt.imshow(train_images[0])\n",
    "#pixel value between 0 and 254\n",
    "print(train_images[0][7,11])"
   ]
  },
  {
   "cell_type": "code",
   "execution_count": 29,
   "id": "7e09d2e8",
   "metadata": {},
   "outputs": [
    {
     "data": {
      "text/plain": [
       "<matplotlib.image.AxesImage at 0x15426c370>"
      ]
     },
     "execution_count": 29,
     "metadata": {},
     "output_type": "execute_result"
    },
    {
     "data": {
      "image/png": "[encoded data removed]",
      "text/plain": [
       "<Figure size 432x288 with 1 Axes>"
      ]
     },
     "metadata": {
      "needs_background": "light"
     },
     "output_type": "display_data"
    }
   ],
   "source": [
    "test_indexes = random.sample(range(len(train_images)), n_digits)\n",
    "test_digits = train_images[test_indexes]\n",
    "test_labels = train_labels[test_indexes]\n",
    "#digits and labels are np arrays\n",
    "#position of each digit, defined as top left corner\n",
    "test_positions = [random.sample(range(frame_size-digit_size-1),2) for i in range(n_digits)]\n",
    "\n",
    "test_frame = create_frame((frame_size, frame_size), test_digits, test_positions)\n",
    "\n",
    "plt.figure()\n",
    "plt.imshow(test_frame)"
   ]
  },
  {
   "cell_type": "code",
   "execution_count": 33,
   "id": "ae4393c3",
   "metadata": {},
   "outputs": [
    {
     "ename": "IndexError",
     "evalue": "index 280 is out of bounds for axis 1 with size 280",
     "output_type": "error",
     "traceback": [
      "\u001b[0;31m---------------------------------------------------------------------------\u001b[0m",
      "\u001b[0;31mIndexError\u001b[0m                                Traceback (most recent call last)",
      "Input \u001b[0;32mIn [33]\u001b[0m, in \u001b[0;36m<cell line: 23>\u001b[0;34m()\u001b[0m\n\u001b[1;32m     51\u001b[0m             directions[k][\u001b[38;5;241m1\u001b[39m] \u001b[38;5;241m-\u001b[39m\u001b[38;5;241m=\u001b[39m \u001b[38;5;241m1\u001b[39m\n\u001b[1;32m     54\u001b[0m \u001b[38;5;66;03m#create the frame with the new positions\u001b[39;00m\n\u001b[0;32m---> 55\u001b[0m frame \u001b[38;5;241m=\u001b[39m \u001b[43mcreate_frame\u001b[49m\u001b[43m(\u001b[49m\u001b[43m(\u001b[49m\u001b[43mframe_size\u001b[49m\u001b[43m,\u001b[49m\u001b[43m \u001b[49m\u001b[43mframe_size\u001b[49m\u001b[43m)\u001b[49m\u001b[43m,\u001b[49m\u001b[43m \u001b[49m\u001b[43mdigits\u001b[49m\u001b[43m,\u001b[49m\u001b[43m \u001b[49m\u001b[43mpositions\u001b[49m\u001b[43m)\u001b[49m\n\u001b[1;32m     56\u001b[0m frames\u001b[38;5;241m.\u001b[39mappend(frame)\n",
      "Input \u001b[0;32mIn [3]\u001b[0m, in \u001b[0;36mcreate_frame\u001b[0;34m(frame_dimensions, digits, positions)\u001b[0m\n\u001b[1;32m      3\u001b[0m \u001b[38;5;28;01mfor\u001b[39;00m k, digit \u001b[38;5;129;01min\u001b[39;00m \u001b[38;5;28menumerate\u001b[39m(digits):\n\u001b[1;32m      4\u001b[0m     position \u001b[38;5;241m=\u001b[39m positions[k]\n\u001b[0;32m----> 5\u001b[0m     frame \u001b[38;5;241m=\u001b[39m \u001b[43minsert\u001b[49m\u001b[43m(\u001b[49m\u001b[43mdigit\u001b[49m\u001b[43m,\u001b[49m\u001b[43m \u001b[49m\u001b[43mframe\u001b[49m\u001b[43m,\u001b[49m\u001b[43m \u001b[49m\u001b[43mposition\u001b[49m\u001b[43m)\u001b[49m\n\u001b[1;32m      6\u001b[0m \u001b[38;5;28;01mreturn\u001b[39;00m frame\n",
      "Input \u001b[0;32mIn [2]\u001b[0m, in \u001b[0;36minsert\u001b[0;34m(digit, frame, position)\u001b[0m\n\u001b[1;32m      2\u001b[0m \u001b[38;5;28;01mfor\u001b[39;00m i, line \u001b[38;5;129;01min\u001b[39;00m \u001b[38;5;28menumerate\u001b[39m(digit):\n\u001b[1;32m      3\u001b[0m     \u001b[38;5;28;01mfor\u001b[39;00m j, pixel \u001b[38;5;129;01min\u001b[39;00m \u001b[38;5;28menumerate\u001b[39m(line):\n\u001b[0;32m----> 4\u001b[0m         frame_value \u001b[38;5;241m=\u001b[39m \u001b[43mframe\u001b[49m\u001b[43m[\u001b[49m\u001b[43mposition\u001b[49m\u001b[43m[\u001b[49m\u001b[38;5;241;43m0\u001b[39;49m\u001b[43m]\u001b[49m\u001b[38;5;241;43m+\u001b[39;49m\u001b[43mi\u001b[49m\u001b[43m,\u001b[49m\u001b[43m \u001b[49m\u001b[43mposition\u001b[49m\u001b[43m[\u001b[49m\u001b[38;5;241;43m1\u001b[39;49m\u001b[43m]\u001b[49m\u001b[38;5;241;43m+\u001b[39;49m\u001b[43mj\u001b[49m\u001b[43m]\u001b[49m\n\u001b[1;32m      5\u001b[0m         \u001b[38;5;28;01mif\u001b[39;00m frame_value \u001b[38;5;241m+\u001b[39m pixel \u001b[38;5;241m>\u001b[39m max_value:\n\u001b[1;32m      6\u001b[0m             frame[position[\u001b[38;5;241m0\u001b[39m]\u001b[38;5;241m+\u001b[39mi, position[\u001b[38;5;241m1\u001b[39m]\u001b[38;5;241m+\u001b[39mj] \u001b[38;5;241m=\u001b[39m max_value\n",
      "\u001b[0;31mIndexError\u001b[0m: index 280 is out of bounds for axis 1 with size 280"
     ]
    }
   ],
   "source": [
    "frames = []\n",
    "\n",
    "#Initial conditions\n",
    "\n",
    "indexes = random.sample(range(len(train_images)), n_digits)\n",
    "digits = train_images[test_indexes]\n",
    "labels = train_labels[test_indexes]\n",
    "                      \n",
    "positions = [random.sample(range(frame_size-digit_size-1),2) for i in range(n_digits)]\n",
    "\n",
    "frame = create_frame((frame_size, frame_size), digits, positions)\n",
    "                      \n",
    "#the frame with the digits is created\n",
    "#initial directions of teach digit\n",
    "#Choice of (2**max_jump) * 4 directions, for the movement to be smooth (not jump too much, choose a max_jump)\n",
    "#Directions denoted by (dx, dy), dx and dy in [-max_jump, max_jump]\n",
    "#But we don't want (0,0)\n",
    "            \n",
    "\n",
    "directions = [non_null_sample(max_jump, 2) for i in range(n_digits)]\n",
    "\n",
    "       \n",
    "for time in range(100):\n",
    "    for k, digit in enumerate(digits):\n",
    "        \n",
    "        #update position based on the previously computed direction\n",
    "        #depending on new position, update direction\n",
    "        \n",
    "        position = new_position(positions[k], directions[k])\n",
    "        positions[k] = position\n",
    "        \n",
    "        \n",
    "        next_position = new_position(positions[k], directions[k])\n",
    "        \n",
    "        if out_of_frame(next_position, [frame_size, frame_size]):\n",
    "            #also returns True if the position is not out of frame but there is not enough room to put the digit there\n",
    "            rebound_point = closest_frontier(position, frame_size)\n",
    "            directions[k] = mirror_direction(directions[k], rebound_point, frame_size)\n",
    "            \n",
    "        if in_the_center(positions[k], frame_size):\n",
    "            #if far enough from the frontiers, probability 1/5 to slightly change direction\n",
    "            \n",
    "            random_nb = random.random()\n",
    "            if random_nb < 0.05:\n",
    "                directions[k][0] += 1\n",
    "            elif random_nb >= 0.05 and random_nb < 0.1 :\n",
    "                directions[k][0] -= 1\n",
    "            if random_nb >= 0.1 and random_nb < 0.15:\n",
    "                directions[k][1] += 1\n",
    "            elif random_nb >= 0.15 and random_nb < 0.2 :\n",
    "                directions[k][1] -= 1\n",
    "            \n",
    "            \n",
    "    #create the frame with the new positions\n",
    "    frame = create_frame((frame_size, frame_size), digits, positions)\n",
    "    frames.append(frame)\n",
    "    "
   ]
  },
  {
   "cell_type": "code",
   "execution_count": 32,
   "id": "bbb3a6d4",
   "metadata": {},
   "outputs": [
    {
     "name": "stderr",
     "output_type": "stream",
     "text": [
      "MovieWriter ffmpeg unavailable; using Pillow instead.\n"
     ]
    },
    {
     "data": {
      "image/png": "[encoded data removed]",
      "text/plain": [
       "<Figure size 432x288 with 1 Axes>"
      ]
     },
     "metadata": {
      "needs_background": "light"
     },
     "output_type": "display_data"
    }
   ],
   "source": [
    "fig, ax  = plt.subplots()\n",
    "ims = []\n",
    "for i, image in enumerate(frames):\n",
    "    im = ax.imshow((image), animated=True)\n",
    "    if i == 0:\n",
    "        ax.imshow(image)  # show an initial one first\n",
    "    ims.append([im])\n",
    "\n",
    "movie = animation.ArtistAnimation(fig, ims, interval=70, blit=True,\n",
    "                                repeat_delay=1000)\n",
    "movie.save('new_movie.gif')"
   ]
  },
  {
   "cell_type": "code",
   "execution_count": null,
   "id": "a0932e6b",
   "metadata": {},
   "outputs": [],
   "source": []
  }
 ],
 "metadata": {
  "kernelspec": {
   "display_name": "Python 3 (ipykernel)",
   "language": "python",
   "name": "python3"
  },
  "language_info": {
   "codemirror_mode": {
    "name": "ipython",
    "version": 3
   },
   "file_extension": ".py",
   "mimetype": "text/x-python",
   "name": "python",
   "nbconvert_exporter": "python",
   "pygments_lexer": "ipython3",
   "version": "3.10.5"
  }
 },
 "nbformat": 4,
 "nbformat_minor": 5
}
