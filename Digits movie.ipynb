{
 "cells": [
  {
   "cell_type": "code",
   "execution_count": 1,
   "id": "21501e10",
   "metadata": {},
   "outputs": [],
   "source": [
    "import tensorflow as tf\n",
    "import matplotlib.pyplot as plt\n",
    "import random as random\n",
    "import numpy as np\n",
    "import matplotlib.animation as animation\n",
    "from functions import *"
   ]
  },
  {
   "cell_type": "code",
   "execution_count": 2,
   "id": "16439451",
   "metadata": {},
   "outputs": [],
   "source": [
    "(train_images, train_labels), (test_images, test_labels) = tf.keras.datasets.mnist.load_data()"
   ]
  },
  {
   "cell_type": "code",
   "execution_count": 3,
   "id": "0169a4c7",
   "metadata": {},
   "outputs": [],
   "source": [
    "frame_size = 280\n",
    "digit_size = len(train_images[0])\n",
    "n_digits = 5\n",
    "duration = 100\n",
    "max_jump = 2 #to define the angles of the direction\n",
    "max_value = 254\n",
    "speed = 2"
   ]
  },
  {
   "cell_type": "code",
   "execution_count": 4,
   "id": "d3811c97",
   "metadata": {},
   "outputs": [
    {
     "name": "stdout",
     "output_type": "stream",
     "text": [
      "253\n"
     ]
    },
    {
     "data": {
      "image/png": "[encoded data removed]",
      "text/plain": [
       "<Figure size 432x288 with 1 Axes>"
      ]
     },
     "metadata": {
      "needs_background": "light"
     },
     "output_type": "display_data"
    }
   ],
   "source": [
    "plt.imshow(train_images[0])\n",
    "#pixel value between 0 and 254\n",
    "print(train_images[0][7,11])"
   ]
  },
  {
   "cell_type": "code",
   "execution_count": 5,
   "id": "7e09d2e8",
   "metadata": {},
   "outputs": [
    {
     "data": {
      "text/plain": [
       "<matplotlib.image.AxesImage at 0x1492ed180>"
      ]
     },
     "execution_count": 5,
     "metadata": {},
     "output_type": "execute_result"
    },
    {
     "data": {
      "image/png": "[encoded data removed]",
      "text/plain": [
       "<Figure size 432x288 with 1 Axes>"
      ]
     },
     "metadata": {
      "needs_background": "light"
     },
     "output_type": "display_data"
    }
   ],
   "source": [
    "test_indexes = random.sample(range(len(train_images)), n_digits)\n",
    "test_digits = train_images[test_indexes]\n",
    "test_labels = train_labels[test_indexes]\n",
    "#digits and labels are np arrays\n",
    "#position of each digit, defined as top left corner\n",
    "test_positions = [random.sample(range(frame_size-digit_size-1),2) for i in range(n_digits)]\n",
    "\n",
    "test_frame = create_frame(frame_size, test_digits, test_positions)\n",
    "\n",
    "plt.figure()\n",
    "plt.imshow(test_frame)"
   ]
  },
  {
   "cell_type": "code",
   "execution_count": 7,
   "id": "ae4393c3",
   "metadata": {},
   "outputs": [],
   "source": [
    "frames = []\n",
    "\n",
    "#Initial conditions\n",
    "\n",
    "indexes = random.sample(range(len(train_images)), n_digits)\n",
    "digits = train_images[indexes]\n",
    "labels = train_labels[indexes]\n",
    "\n",
    "positions = [random.sample(range(frame_size-digit_size-1),2) for i in range(n_digits)]\n",
    "\n",
    "frame = create_frame(frame_size, digits, positions)\n",
    "                      \n",
    "#the frame with the digits is created\n",
    "#initial directions of teach digit\n",
    "#Choice of (2**max_jump) * 4 directions, for the movement to be smooth (not jump too much, choose a max_jump)\n",
    "#Directions denoted by (dx, dy), dx and dy in [-max_jump, max_jump]\n",
    "#But we don't want (0,0)\n",
    "            \n",
    "\n",
    "directions = [non_null_sample(max_jump, 2) for i in range(n_digits)]\n",
    "\n",
    "       \n",
    "for time in range(100):\n",
    "    for k, digit in enumerate(digits):\n",
    "        \n",
    "        #update position based on the previously computed direction\n",
    "        #depending on new position, update direction\n",
    "        \n",
    "        position = new_position(positions[k], directions[k], speed)\n",
    "        positions[k] = position\n",
    "\n",
    "        next_position = new_position(positions[k], directions[k], speed)\n",
    "        \n",
    "        if out_of_frame(next_position, frame_size, digit_size):\n",
    "            #also returns True if the position is not out of frame but there is not enough room to put the digit there\n",
    "            rebound_point = closest_frontier(position, frame_size, len(digit[0]))\n",
    "            directions[k] = mirror_direction(directions[k], rebound_point, frame_size)\n",
    "            \n",
    "        if in_the_center(positions[k], frame_size, speed, digit_size, max_jump):\n",
    "            #if far enough from the frontiers, probability 1/5 to slightly change direction\n",
    "            \n",
    "            random_nb = random.random()\n",
    "            if random_nb < 0.05:\n",
    "                directions[k][0] += 1\n",
    "            elif random_nb >= 0.05 and random_nb < 0.1 :\n",
    "                directions[k][0] -= 1\n",
    "            if random_nb >= 0.1 and random_nb < 0.15:\n",
    "                directions[k][1] += 1\n",
    "            elif random_nb >= 0.15 and random_nb < 0.2 :\n",
    "                directions[k][1] -= 1\n",
    "\n",
    "    #create the frame with the new positions\n",
    "    frame = create_frame(frame_size, digits, positions)\n",
    "    frames.append(frame)\n",
    "    "
   ]
  },
  {
   "cell_type": "code",
   "execution_count": 8,
   "id": "bbb3a6d4",
   "metadata": {},
   "outputs": [
    {
     "name": "stderr",
     "output_type": "stream",
     "text": [
      "MovieWriter ffmpeg unavailable; using Pillow instead.\n"
     ]
    },
    {
     "data": {
      "image/png": "[encoded data removed]",
      "text/plain": [
       "<Figure size 432x288 with 1 Axes>"
      ]
     },
     "metadata": {
      "needs_background": "light"
     },
     "output_type": "display_data"
    }
   ],
   "source": [
    "fig, ax  = plt.subplots()\n",
    "ims = []\n",
    "for i, image in enumerate(frames):\n",
    "    im = ax.imshow((image), animated=True)\n",
    "    if i == 0:\n",
    "        ax.imshow(image)  # show an initial one first\n",
    "    ims.append([im])\n",
    "\n",
    "movie = animation.ArtistAnimation(fig, ims, interval=70, blit=True,\n",
    "                                repeat_delay=1000)\n",
    "movie.save('movies/5_medium.gif')"
   ]
  },
  {
   "cell_type": "code",
   "execution_count": null,
   "id": "1f3e276e",
   "metadata": {},
   "outputs": [],
   "source": []
  }
 ],
 "metadata": {
  "kernelspec": {
   "display_name": "Python 3 (ipykernel)",
   "language": "python",
   "name": "python3"
  },
  "language_info": {
   "codemirror_mode": {
    "name": "ipython",
    "version": 3
   },
   "file_extension": ".py",
   "mimetype": "text/x-python",
   "name": "python",
   "nbconvert_exporter": "python",
   "pygments_lexer": "ipython3",
   "version": "3.10.5"
  }
 },
 "nbformat": 4,
 "nbformat_minor": 5
}
