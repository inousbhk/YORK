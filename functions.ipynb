{
 "cells": [
  {
   "cell_type": "code",
   "execution_count": 1,
   "id": "acd2716c",
   "metadata": {},
   "outputs": [],
   "source": [
    "import numpy as np\n",
    "import tensorflow as tf\n",
    "from tensorflow import keras\n",
    "from tensorflow.keras import layers\n",
    "import matplotlib.pyplot as plt\n",
    "import random as random\n",
    "import matplotlib.animation as animation\n",
    "import pandas as pd"
   ]
  },
  {
   "cell_type": "code",
   "execution_count": 1,
   "id": "72b261e4",
   "metadata": {},
   "outputs": [],
   "source": [
    "def insert(digit, frame, position):\n",
    "    max_value = np.max(digit)\n",
    "    for i, line in enumerate(digit):\n",
    "        for j, pixel in enumerate(line):\n",
    "            frame_value = frame[position[0]+i, position[1]+j]\n",
    "            if frame_value + pixel > max_value:\n",
    "                frame[position[0]+i, position[1]+j] = max_value\n",
    "                #saturation\n",
    "            else:\n",
    "                frame[position[0]+i, position[1]+j] += pixel\n",
    "    return frame"
   ]
  },
  {
   "cell_type": "code",
   "execution_count": 3,
   "id": "e064c10b",
   "metadata": {},
   "outputs": [],
   "source": [
    "def create_frame(frame_size, digits, positions):\n",
    "    frame = np.zeros((frame_size, frame_size))\n",
    "    for k, digit in enumerate(digits):\n",
    "        position = positions[k]\n",
    "        frame = insert(digit, frame, position)\n",
    "    return frame"
   ]
  },
  {
   "cell_type": "code",
   "execution_count": 4,
   "id": "05bb8e0c",
   "metadata": {},
   "outputs": [],
   "source": [
    "def mirror_direction(direction, position, frame_size):\n",
    "    #only called if digit hits a wall, so either x or y equals 0 or frame_size-1\n",
    "    dx, dy = direction\n",
    "    x,y = position\n",
    "    if (x==0 or x==frame_size-1) and y!=0 and y!=frame_size-1:\n",
    "        dx = -dx\n",
    "    if (y==0 or y==frame_size-1) and x!=0 and x!=frame_size-1:\n",
    "        dy = -dy\n",
    "    if (x==0 or x==frame_size-1) and (y==0 or y==frame_size-1):\n",
    "        dx, dy = -dx, -dy\n",
    "    return [dx, dy]"
   ]
  },
  {
   "cell_type": "code",
   "execution_count": 5,
   "id": "0df31c2a",
   "metadata": {},
   "outputs": [],
   "source": [
    "def closest_frontier(position, frame_size, digit_size):\n",
    "    x,y = position\n",
    "    neighbor_frontiers = [(frame_size-1,y), (0,y), (x, frame_size-1), (x,0)]\n",
    "    distances = []\n",
    "    distances.append(frame_size - (x+digit_size))\n",
    "    distances.append(x)\n",
    "    distances.append(frame_size - (y+digit_size))\n",
    "    distances.append(y)\n",
    "    return neighbor_frontiers[distances.index(min(distances))]"
   ]
  },
  {
   "cell_type": "code",
   "execution_count": 6,
   "id": "bbaf0b90",
   "metadata": {},
   "outputs": [],
   "source": [
    "def non_null_sample(max_value, number):\n",
    "    values = list(np.arange(-max_value, max_value+1))\n",
    "    sample = []\n",
    "    for i in range(number-1):\n",
    "        sample.append(random.choice(values))\n",
    "    #for the last value, we cannot add a zero if there are only zero in the selected values\n",
    "    if list(set(sample)) != [0]:\n",
    "        sample.append(random.choice(values))\n",
    "    else:\n",
    "        values.remove(0)\n",
    "        sample.append(random.choice(values))\n",
    "    return sample"
   ]
  },
  {
   "cell_type": "code",
   "execution_count": 7,
   "id": "ea76c98d",
   "metadata": {},
   "outputs": [],
   "source": [
    "def new_position(position, direction, speed):\n",
    "    x,y = position\n",
    "    dx, dy = direction\n",
    "    return [x+speed*dx, y+speed*dy]"
   ]
  },
  {
   "cell_type": "code",
   "execution_count": 8,
   "id": "343c3069",
   "metadata": {},
   "outputs": [],
   "source": [
    "def out_of_frame(position, frame_size, digit_size):\n",
    "    for i, dimension in enumerate(position) :\n",
    "\n",
    "        if dimension + digit_size  > frame_size:\n",
    "            return True\n",
    "        if dimension < 0:\n",
    "            return True\n",
    "    return False"
   ]
  },
  {
   "cell_type": "code",
   "execution_count": 1,
   "id": "495111bb",
   "metadata": {},
   "outputs": [],
   "source": [
    "def in_the_center(position, frame_size, speed, digit_size, max_jump):\n",
    "    security_distance = abs(speed*max_jump)+ digit_size\n",
    "    for dimension in position :\n",
    "        if abs(frame_size-dimension)<security_distance or dimension < security_distance:\n",
    "            return False\n",
    "    return True"
   ]
  },
  {
   "cell_type": "code",
   "execution_count": 10,
   "id": "4f590fa0",
   "metadata": {},
   "outputs": [],
   "source": [
    "def insert_and_label(digit, digit_label, frame, proba, position):\n",
    "\n",
    "    max_value = np.max(digit)\n",
    "    \n",
    "    for i, line in enumerate(digit):\n",
    "        for j, pixel in enumerate(line):\n",
    "            \n",
    "            frame_value = frame[position[0]+i, position[1]+j]\n",
    "            \n",
    "            if frame_value + pixel > max_value:\n",
    "                frame[position[0]+i, position[1]+j] = max_value\n",
    "                #saturation\n",
    "            else:\n",
    "                frame[position[0]+i, position[1]+j] += pixel\n",
    "\n",
    "            if pixel != 0:\n",
    "                proba[position[0]+i][position[1]+j] = 1\n",
    "            #where a non-zero digit pixel is inserted, a one is inserted in the same position of the corresponding matrix\n",
    "            \n",
    "    return frame, proba"
   ]
  },
  {
   "cell_type": "code",
   "execution_count": 12,
   "id": "ef02d005",
   "metadata": {},
   "outputs": [],
   "source": [
    "def generate_dataset(frame_size, digits_set, digits_labels_set, n_digits, n_frames):\n",
    "    #version with 10 frames instead of one frame of vectors\n",
    "    \n",
    "    digit_size = len(digits_set[0][0])\n",
    "    \n",
    "    frames = []\n",
    "    labels = []\n",
    "    \n",
    "    for i in range(n_frames):\n",
    "        frame = np.zeros((frame_size, frame_size))\n",
    "        label = [np.zeros((frame_size, frame_size)) for i in range(len(list(set(digits_labels_set))))]\n",
    "        #a 280x280 matrix for each digit\n",
    "\n",
    "        indexes = random.sample(range(len(digits_set)), n_digits)\n",
    "        digits = digits_set[indexes]\n",
    "        digits_labels = digits_labels_set[indexes]\n",
    "        \n",
    "        positions = [random.sample(range(frame_size-digit_size-1),2) for i in range(n_digits)]\n",
    "\n",
    "        \n",
    "        for k, digit in enumerate(digits):\n",
    "            digit_label = digits_labels[k]\n",
    "\n",
    "            digit_proba = label[digit_label]\n",
    "            frame, digit_proba = insert_and_label(digit, digit_label, frame, digit_proba, positions[k])\n",
    "            label[digit_label] = digit_proba\n",
    "\n",
    "        #print(frame)\n",
    "        \n",
    "    \n",
    "        \n",
    "        labels.append(label)\n",
    "        frames.append(frame)\n",
    "\n",
    "        \n",
    "    return np.array(frames), np.array(labels)"
   ]
  },
  {
   "cell_type": "code",
   "execution_count": null,
   "id": "41061d0c",
   "metadata": {},
   "outputs": [],
   "source": []
  }
 ],
 "metadata": {
  "kernelspec": {
   "display_name": "Python 3 (ipykernel)",
   "language": "python",
   "name": "python3"
  },
  "language_info": {
   "codemirror_mode": {
    "name": "ipython",
    "version": 3
   },
   "file_extension": ".py",
   "mimetype": "text/x-python",
   "name": "python",
   "nbconvert_exporter": "python",
   "pygments_lexer": "ipython3",
   "version": "3.10.5"
  }
 },
 "nbformat": 4,
 "nbformat_minor": 5
}
